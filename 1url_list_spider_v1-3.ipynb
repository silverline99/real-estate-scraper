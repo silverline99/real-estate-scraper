{
 "cells": [
  {
   "cell_type": "code",
   "execution_count": null,
   "metadata": {},
   "outputs": [],
   "source": [
    "# 2.12.2020\n",
    "# Novinky ve verzi 1-3\n",
    "# Vytvoření nového DataFramu: B_listings_warehouse_df\n",
    "# Prázdný cyklus zprovoznění\n",
    "# Přidání timestamp sloupce\n",
    "\n",
    "\n",
    "# 1.12.2020\n",
    "# ZNOVU PROČTENÍ CELÉHO KÓDU A OVĚŘENÍ, ZDA VŠECHNO FUNGUJE, JAK MÁ\n",
    "# VÝSLEDEK = vše v pořádku"
   ]
  },
  {
   "cell_type": "code",
   "execution_count": 1,
   "metadata": {},
   "outputs": [],
   "source": [
    "import pandas as pd\n",
    "from bs4 import BeautifulSoup\n",
    "import requests\n",
    "from time import sleep\n",
    "import re"
   ]
  },
  {
   "cell_type": "code",
   "execution_count": 2,
   "metadata": {},
   "outputs": [],
   "source": [
    "\"\"\"\n",
    "I.\n",
    "DEFINITION OF START URLS\n",
    "\"\"\"\n",
    "# Prodeje bytů (celá ČR, řazeno od nejnovější)\n",
    "start_url = \"https://www.bezrealitky.cz/vypis/nabidka-prodej/byt?order=timeOrder_desc\"\n",
    "\n",
    "# Prodeje bytů Ústecký kraj okres Ústí nad Labem (řazeno od nejnovější)\n",
    "usti_start_url = \"https://www.bezrealitky.cz/vypis/nabidka-prodej/byt/ustecky-kraj/okres-usti-nad-labem?_token=xRxZbrzCvTQg1lC0S-mmZuJgOPvU0OrF17Vgwgs2q8Y\""
   ]
  },
  {
   "cell_type": "code",
   "execution_count": 3,
   "metadata": {},
   "outputs": [
    {
     "name": "stdout",
     "output_type": "stream",
     "text": [
      "TEST ZDA SOUHLASÍ POČET: NEJNOVĚJŠÍCH NABÍDEK = 10 S POČTEM VYTVOŘENÝCH URL = 10\n"
     ]
    },
    {
     "data": {
      "text/plain": [
       "['https://www.bezrealitky.cz/nemovitosti-byty-domy/640687-nabidka-prodej-bytu-kamenna-usti-nad-labem',\n",
       " 'https://www.bezrealitky.cz/nemovitosti-byty-domy/640666-nabidka-prodej-bytu-kmochova-bilina',\n",
       " 'https://www.bezrealitky.cz/nemovitosti-byty-domy/639650-nabidka-prodej-bytu-jindricha-plachty-usti-nad-labem',\n",
       " 'https://www.bezrealitky.cz/nemovitosti-byty-domy/639500-nabidka-prodej-bytu-merunkova-usti-nad-labem',\n",
       " 'https://www.bezrealitky.cz/nemovitosti-byty-domy/639734-nabidka-prodej-bytu-masarykova-usti-nad-labem',\n",
       " 'https://www.bezrealitky.cz/nemovitosti-byty-domy/634864-nabidka-prodej-bytu-rabasova-usti-nad-labem',\n",
       " 'https://www.bezrealitky.cz/nemovitosti-byty-domy/639505-nabidka-prodej-bytu-kmochova-usti-nad-labem',\n",
       " 'https://www.bezrealitky.cz/nemovitosti-byty-domy/625085-nabidka-prodej-bytu-elisky-krasnohorske-usti-nad-labem',\n",
       " 'https://www.bezrealitky.cz/nemovitosti-byty-domy/635054-nabidka-prodej-bytu-sumavska-usti-nad-labem',\n",
       " 'https://www.bezrealitky.cz/nemovitosti-byty-domy/633816-nabidka-prodej-bytu-usti-nad-labem']"
      ]
     },
     "execution_count": 3,
     "metadata": {},
     "output_type": "execute_result"
    }
   ],
   "source": [
    "\"\"\"\n",
    "II.\n",
    "NEW URLS OBTAINING\n",
    "\"\"\"\n",
    "\n",
    "# SETTING AN URL WHERE TO START\n",
    "url = usti_start_url\n",
    "\n",
    "# MAKING A SOUP FROM STARTING URL\n",
    "headers = {'User-Agent': 'Mozilla/5.0 (X11; Linux x86_64) AppleWebKit/537.36 (KHTML, like Gecko) Chrome/79.0.3945.117 Safari/537.36'}\n",
    "r = requests.get(url, headers=headers)\n",
    "soup_inzeratu = BeautifulSoup(r.text, 'html.parser')\n",
    "\n",
    "# MAKING A LIST OF NEW LISTINGS URLS (SUFFIXES)\n",
    "newest_listings_list = []\n",
    "\n",
    "# USAGE OF DISTINGUISHING IDENTIFIER FOR NEW A LISTING URL\n",
    "# --->  class_=\"btn btn-shadow btn-primary btn-sm\"\n",
    "for link in soup_inzeratu.find_all(\"a\", class_=\"btn btn-shadow btn-primary btn-sm\"):\n",
    "    output = str(link.get('href'))\n",
    "    #print(output)\n",
    "    output_processed = output[:22]\n",
    "    if output_processed == \"/nemovitosti-byty-domy\":\n",
    "        #print (output_processed)\n",
    "        #print (output)\n",
    "        newest_listings_list.append(output)\n",
    "sleep(3.5)\n",
    "\n",
    "# MAKING A FINAL LIST OF NEW URLS TO SCRAPE\n",
    "urls_list = []\n",
    "for url in newest_listings_list:\n",
    "    url = \"https://www.bezrealitky.cz\"+url\n",
    "    urls_list.append(url)\n",
    "\n",
    "# TEST THAT NO URL HAVE GOT LOST\n",
    "print(\"TEST ZDA SOUHLASÍ POČET:\",\"NEJNOVĚJŠÍCH NABÍDEK =\",len(newest_listings_list),\"S POČTEM VYTVOŘENÝCH URL =\",len(urls_list))\n",
    "\n",
    "# URLS IN THE LIST\n",
    "urls_list"
   ]
  },
  {
   "cell_type": "code",
   "execution_count": 4,
   "metadata": {},
   "outputs": [
    {
     "name": "stdout",
     "output_type": "stream",
     "text": [
      "https://www.bezrealitky.cz/nemovitosti-byty-domy/640687-nabidka-prodej-bytu-kamenna-usti-nad-labem =OK\n",
      "https://www.bezrealitky.cz/nemovitosti-byty-domy/640666-nabidka-prodej-bytu-kmochova-bilina =OK\n",
      "https://www.bezrealitky.cz/nemovitosti-byty-domy/639650-nabidka-prodej-bytu-jindricha-plachty-usti-nad-labem =OK\n",
      "https://www.bezrealitky.cz/nemovitosti-byty-domy/639500-nabidka-prodej-bytu-merunkova-usti-nad-labem =OK\n",
      "https://www.bezrealitky.cz/nemovitosti-byty-domy/639734-nabidka-prodej-bytu-masarykova-usti-nad-labem =OK\n",
      "https://www.bezrealitky.cz/nemovitosti-byty-domy/634864-nabidka-prodej-bytu-rabasova-usti-nad-labem =OK\n",
      "https://www.bezrealitky.cz/nemovitosti-byty-domy/639505-nabidka-prodej-bytu-kmochova-usti-nad-labem =OK\n",
      "https://www.bezrealitky.cz/nemovitosti-byty-domy/625085-nabidka-prodej-bytu-elisky-krasnohorske-usti-nad-labem =OK\n",
      "https://www.bezrealitky.cz/nemovitosti-byty-domy/635054-nabidka-prodej-bytu-sumavska-usti-nad-labem =OK\n",
      "https://www.bezrealitky.cz/nemovitosti-byty-domy/633816-nabidka-prodej-bytu-usti-nad-labem =OK\n"
     ]
    },
    {
     "data": {
      "text/plain": [
       "{'https://www.bezrealitky.cz/nemovitosti-byty-domy/640687-nabidka-prodej-bytu-kamenna-usti-nad-labem': 'OK',\n",
       " 'https://www.bezrealitky.cz/nemovitosti-byty-domy/640666-nabidka-prodej-bytu-kmochova-bilina': 'OK',\n",
       " 'https://www.bezrealitky.cz/nemovitosti-byty-domy/639650-nabidka-prodej-bytu-jindricha-plachty-usti-nad-labem': 'OK',\n",
       " 'https://www.bezrealitky.cz/nemovitosti-byty-domy/639500-nabidka-prodej-bytu-merunkova-usti-nad-labem': 'OK',\n",
       " 'https://www.bezrealitky.cz/nemovitosti-byty-domy/639734-nabidka-prodej-bytu-masarykova-usti-nad-labem': 'OK',\n",
       " 'https://www.bezrealitky.cz/nemovitosti-byty-domy/634864-nabidka-prodej-bytu-rabasova-usti-nad-labem': 'OK',\n",
       " 'https://www.bezrealitky.cz/nemovitosti-byty-domy/639505-nabidka-prodej-bytu-kmochova-usti-nad-labem': 'OK',\n",
       " 'https://www.bezrealitky.cz/nemovitosti-byty-domy/625085-nabidka-prodej-bytu-elisky-krasnohorske-usti-nad-labem': 'OK',\n",
       " 'https://www.bezrealitky.cz/nemovitosti-byty-domy/635054-nabidka-prodej-bytu-sumavska-usti-nad-labem': 'OK',\n",
       " 'https://www.bezrealitky.cz/nemovitosti-byty-domy/633816-nabidka-prodej-bytu-usti-nad-labem': 'OK'}"
      ]
     },
     "execution_count": 4,
     "metadata": {},
     "output_type": "execute_result"
    }
   ],
   "source": [
    "\"\"\"\n",
    "III. TESTS - SEARCH FOR 404 ERROR AND INACTIVE LISTINGS\n",
    "\"\"\"\n",
    "# MAKING A CHECK LIST\n",
    "urls_check_list = []\n",
    "\n",
    "# TEST ON \"THE PAGE FOR 404 ERROR\" + \"Tato nabídka je neaktivní\"\n",
    "for url in urls_list:\n",
    "    headers = {'User-Agent': 'Mozilla/5.0 (X11; Linux x86_64) AppleWebKit/537.36 (KHTML, like Gecko) Chrome/79.0.3945.117 Safari/537.36'}\n",
    "    r = requests.get(url, headers=headers)\n",
    "    soup_inzeratu = BeautifulSoup(r.text, 'html.parser')\n",
    "    \n",
    "    # NOT WORKING PAGES IDENTIFICATION: 404 + INACTIVE LISTINGS \"Tato nabídka je neaktivní\"\n",
    "    not_found_page = soup_inzeratu.find(\"title\")\n",
    "    neaktivni_page = soup_inzeratu.find(\"strong\")\n",
    "    if not_found_page.text == 'Stránka nenalezena | Bezrealitky':\n",
    "        urls_check_list.append(\"404\")\n",
    "        print(\"404\")\n",
    "    elif neaktivni_page.text == 'Tato nabídka je neaktivní':\n",
    "        urls_check_list.append(\"Tato nabídka je neaktivní\")\n",
    "        print(\"Tato nabídka je neaktivní\")\n",
    "    else:\n",
    "        urls_check_list.append(\"OK\")\n",
    "        print(url, \"=OK\")\n",
    "    sleep(1.5)\n",
    "\n",
    "# VYTVOŘENÍ KONTROLNÍHO SLOVNÍKŮ S PÁRY URL A VÝSLEDKEM TESTU\n",
    "check_dictionary = dict(zip(urls_list, urls_check_list))\n",
    "\n",
    "# KONTROLNÍ ZOBRAZENÍ KONTROLNÍHO SLOVNÍKU\n",
    "check_dictionary"
   ]
  },
  {
   "cell_type": "code",
   "execution_count": 5,
   "metadata": {
    "scrolled": true
   },
   "outputs": [
    {
     "name": "stdout",
     "output_type": "stream",
     "text": [
      "KONTROLNÍ VÝPIS: seznam url pro scrapování má-----> 10 položek.\n"
     ]
    },
    {
     "data": {
      "text/plain": [
       "['https://www.bezrealitky.cz/nemovitosti-byty-domy/640687-nabidka-prodej-bytu-kamenna-usti-nad-labem',\n",
       " 'https://www.bezrealitky.cz/nemovitosti-byty-domy/640666-nabidka-prodej-bytu-kmochova-bilina',\n",
       " 'https://www.bezrealitky.cz/nemovitosti-byty-domy/639650-nabidka-prodej-bytu-jindricha-plachty-usti-nad-labem',\n",
       " 'https://www.bezrealitky.cz/nemovitosti-byty-domy/639500-nabidka-prodej-bytu-merunkova-usti-nad-labem',\n",
       " 'https://www.bezrealitky.cz/nemovitosti-byty-domy/639734-nabidka-prodej-bytu-masarykova-usti-nad-labem',\n",
       " 'https://www.bezrealitky.cz/nemovitosti-byty-domy/634864-nabidka-prodej-bytu-rabasova-usti-nad-labem',\n",
       " 'https://www.bezrealitky.cz/nemovitosti-byty-domy/639505-nabidka-prodej-bytu-kmochova-usti-nad-labem',\n",
       " 'https://www.bezrealitky.cz/nemovitosti-byty-domy/625085-nabidka-prodej-bytu-elisky-krasnohorske-usti-nad-labem',\n",
       " 'https://www.bezrealitky.cz/nemovitosti-byty-domy/635054-nabidka-prodej-bytu-sumavska-usti-nad-labem',\n",
       " 'https://www.bezrealitky.cz/nemovitosti-byty-domy/633816-nabidka-prodej-bytu-usti-nad-labem']"
      ]
     },
     "execution_count": 5,
     "metadata": {},
     "output_type": "execute_result"
    }
   ],
   "source": [
    "\"\"\"\n",
    "III.\n",
    "APLICATION OF RESULTS OF TESTS ON  DEFAULT URL LIST\n",
    "(=> Odstranění nefunkčních url ze seznamu url)\n",
    "\n",
    "USED:\n",
    "Filter a Dictionary by conditions\n",
    "https://thispointer.com/python-filter-a-dictionary-by-conditions-on-keys-or-values/\n",
    "\"\"\"\n",
    "# ITERATE OVER ALL THE ITEMS IN DICTIONARY \n",
    "# AND FILTER WHEN '404'+ 'Tato nabídka je neaktivní' IS FOUND\n",
    "for (key, value) in check_dictionary.items():\n",
    "   # Check if key is even then add pair to new dictionary\n",
    "   if value == '404' or value == 'Tato nabídka je neaktivní':\n",
    "        print(key)\n",
    "        url_value = str(key)\n",
    "        urls_list.remove(url_value)\n",
    "\n",
    "# KONTROLNÍ VÝPIS\n",
    "print(\"KONTROLNÍ VÝPIS: seznam url pro scrapování má----->\",len(urls_list),\"položek.\")\n",
    "urls_list"
   ]
  },
  {
   "cell_type": "code",
   "execution_count": 6,
   "metadata": {},
   "outputs": [
    {
     "data": {
      "text/html": [
       "<div>\n",
       "<style scoped>\n",
       "    .dataframe tbody tr th:only-of-type {\n",
       "        vertical-align: middle;\n",
       "    }\n",
       "\n",
       "    .dataframe tbody tr th {\n",
       "        vertical-align: top;\n",
       "    }\n",
       "\n",
       "    .dataframe thead th {\n",
       "        text-align: right;\n",
       "    }\n",
       "</style>\n",
       "<table border=\"1\" class=\"dataframe\">\n",
       "  <thead>\n",
       "    <tr style=\"text-align: right;\">\n",
       "      <th></th>\n",
       "      <th>Číslo inzerátu</th>\n",
       "      <th>url</th>\n",
       "    </tr>\n",
       "  </thead>\n",
       "  <tbody>\n",
       "    <tr>\n",
       "      <th>0</th>\n",
       "      <td>633816</td>\n",
       "      <td>https://www.bezrealitky.cz/nemovitosti-byty-do...</td>\n",
       "    </tr>\n",
       "    <tr>\n",
       "      <th>1</th>\n",
       "      <td>630298</td>\n",
       "      <td>https://www.bezrealitky.cz/nemovitosti-byty-do...</td>\n",
       "    </tr>\n",
       "    <tr>\n",
       "      <th>2</th>\n",
       "      <td>625085</td>\n",
       "      <td>https://www.bezrealitky.cz/nemovitosti-byty-do...</td>\n",
       "    </tr>\n",
       "    <tr>\n",
       "      <th>3</th>\n",
       "      <td>200547</td>\n",
       "      <td>https://www.bezrealitky.cz/nemovitosti-byty-do...</td>\n",
       "    </tr>\n",
       "    <tr>\n",
       "      <th>4</th>\n",
       "      <td>640687</td>\n",
       "      <td>https://www.bezrealitky.cz/nemovitosti-byty-do...</td>\n",
       "    </tr>\n",
       "    <tr>\n",
       "      <th>5</th>\n",
       "      <td>640666</td>\n",
       "      <td>https://www.bezrealitky.cz/nemovitosti-byty-do...</td>\n",
       "    </tr>\n",
       "    <tr>\n",
       "      <th>6</th>\n",
       "      <td>639650</td>\n",
       "      <td>https://www.bezrealitky.cz/nemovitosti-byty-do...</td>\n",
       "    </tr>\n",
       "    <tr>\n",
       "      <th>7</th>\n",
       "      <td>639500</td>\n",
       "      <td>https://www.bezrealitky.cz/nemovitosti-byty-do...</td>\n",
       "    </tr>\n",
       "    <tr>\n",
       "      <th>8</th>\n",
       "      <td>639734</td>\n",
       "      <td>https://www.bezrealitky.cz/nemovitosti-byty-do...</td>\n",
       "    </tr>\n",
       "    <tr>\n",
       "      <th>9</th>\n",
       "      <td>634864</td>\n",
       "      <td>https://www.bezrealitky.cz/nemovitosti-byty-do...</td>\n",
       "    </tr>\n",
       "    <tr>\n",
       "      <th>10</th>\n",
       "      <td>639505</td>\n",
       "      <td>https://www.bezrealitky.cz/nemovitosti-byty-do...</td>\n",
       "    </tr>\n",
       "    <tr>\n",
       "      <th>11</th>\n",
       "      <td>635054</td>\n",
       "      <td>https://www.bezrealitky.cz/nemovitosti-byty-do...</td>\n",
       "    </tr>\n",
       "  </tbody>\n",
       "</table>\n",
       "</div>"
      ],
      "text/plain": [
       "   Číslo inzerátu                                                url\n",
       "0          633816  https://www.bezrealitky.cz/nemovitosti-byty-do...\n",
       "1          630298  https://www.bezrealitky.cz/nemovitosti-byty-do...\n",
       "2          625085  https://www.bezrealitky.cz/nemovitosti-byty-do...\n",
       "3          200547  https://www.bezrealitky.cz/nemovitosti-byty-do...\n",
       "4          640687  https://www.bezrealitky.cz/nemovitosti-byty-do...\n",
       "5          640666  https://www.bezrealitky.cz/nemovitosti-byty-do...\n",
       "6          639650  https://www.bezrealitky.cz/nemovitosti-byty-do...\n",
       "7          639500  https://www.bezrealitky.cz/nemovitosti-byty-do...\n",
       "8          639734  https://www.bezrealitky.cz/nemovitosti-byty-do...\n",
       "9          634864  https://www.bezrealitky.cz/nemovitosti-byty-do...\n",
       "10         639505  https://www.bezrealitky.cz/nemovitosti-byty-do...\n",
       "11         635054  https://www.bezrealitky.cz/nemovitosti-byty-do..."
      ]
     },
     "execution_count": 6,
     "metadata": {},
     "output_type": "execute_result"
    }
   ],
   "source": [
    "\"\"\"\n",
    "IV.\n",
    "LOADING OF VISITED URLS\n",
    "\"\"\"\n",
    "\n",
    "C_visited_listings_urls_BEZREALITKY_df = pd.read_pickle(\"dataframes/C_visited_listings_urls_BEZREALITKY_df.pkl\")\n",
    "C_visited_listings_urls_BEZREALITKY_df"
   ]
  },
  {
   "cell_type": "code",
   "execution_count": 7,
   "metadata": {},
   "outputs": [
    {
     "name": "stdout",
     "output_type": "stream",
     "text": [
      "https://www.bezrealitky.cz/nemovitosti-byty-domy/640687-nabidka-prodej-bytu-kamenna-usti-nad-labem = JIŽ NAVŠTÍVENO\n",
      "https://www.bezrealitky.cz/nemovitosti-byty-domy/640666-nabidka-prodej-bytu-kmochova-bilina = JIŽ NAVŠTÍVENO\n",
      "https://www.bezrealitky.cz/nemovitosti-byty-domy/639650-nabidka-prodej-bytu-jindricha-plachty-usti-nad-labem = JIŽ NAVŠTÍVENO\n",
      "https://www.bezrealitky.cz/nemovitosti-byty-domy/639500-nabidka-prodej-bytu-merunkova-usti-nad-labem = JIŽ NAVŠTÍVENO\n",
      "https://www.bezrealitky.cz/nemovitosti-byty-domy/639734-nabidka-prodej-bytu-masarykova-usti-nad-labem = JIŽ NAVŠTÍVENO\n",
      "https://www.bezrealitky.cz/nemovitosti-byty-domy/634864-nabidka-prodej-bytu-rabasova-usti-nad-labem = JIŽ NAVŠTÍVENO\n",
      "https://www.bezrealitky.cz/nemovitosti-byty-domy/639505-nabidka-prodej-bytu-kmochova-usti-nad-labem = JIŽ NAVŠTÍVENO\n",
      "https://www.bezrealitky.cz/nemovitosti-byty-domy/625085-nabidka-prodej-bytu-elisky-krasnohorske-usti-nad-labem = JIŽ NAVŠTÍVENO\n",
      "https://www.bezrealitky.cz/nemovitosti-byty-domy/635054-nabidka-prodej-bytu-sumavska-usti-nad-labem = JIŽ NAVŠTÍVENO\n",
      "https://www.bezrealitky.cz/nemovitosti-byty-domy/633816-nabidka-prodej-bytu-usti-nad-labem = JIŽ NAVŠTÍVENO\n",
      "hotovo!!!\n"
     ]
    }
   ],
   "source": [
    "\"\"\"\n",
    "V. \n",
    "TEST THAT NEW URL ISN'T AMONG ALREADY VISITED URLS\n",
    "(=> Odstranění již navštívených url ze seznamu url)\n",
    "\"\"\"\n",
    "# VYTVOŘENÍ SEZNAMU NAVŠTÍVENÝCH URL\n",
    "visited_urls_list = C_visited_listings_urls_BEZREALITKY_df['url'].tolist()\n",
    "visited_urls_list\n",
    "\n",
    "\n",
    "# POROVNÁNÍ SEZNAMŮ\n",
    "visited_urls_to_remove = []\n",
    "for new_url in urls_list:\n",
    "    if (new_url in visited_urls_list):\n",
    "        visited_urls_to_remove.append(new_url)\n",
    "        print (new_url, \"= JIŽ NAVŠTÍVENO\")\n",
    "print(\"hotovo!!!\")"
   ]
  },
  {
   "cell_type": "code",
   "execution_count": 8,
   "metadata": {},
   "outputs": [
    {
     "name": "stdout",
     "output_type": "stream",
     "text": [
      "KONTROLNÍ VÝPIS: seznam url pro scrapování má-----> 0 položek.\n"
     ]
    },
    {
     "data": {
      "text/plain": [
       "[]"
      ]
     },
     "execution_count": 8,
     "metadata": {},
     "output_type": "execute_result"
    }
   ],
   "source": [
    "\"\"\"\n",
    "VI.\n",
    "APPLICATION OF RESULTS OF \"VISITED URLS TEST\"\n",
    "\"\"\"\n",
    "for visited_url in visited_urls_to_remove:\n",
    "    urls_list.remove(visited_url)\n",
    "\n",
    "# KONTROLNÍ VÝPIS\n",
    "print(\"KONTROLNÍ VÝPIS: seznam url pro scrapování má----->\",len(urls_list),\"položek.\")\n",
    "urls_list"
   ]
  },
  {
   "cell_type": "code",
   "execution_count": 9,
   "metadata": {},
   "outputs": [
    {
     "data": {
      "text/html": [
       "<div>\n",
       "<style scoped>\n",
       "    .dataframe tbody tr th:only-of-type {\n",
       "        vertical-align: middle;\n",
       "    }\n",
       "\n",
       "    .dataframe tbody tr th {\n",
       "        vertical-align: top;\n",
       "    }\n",
       "\n",
       "    .dataframe thead th {\n",
       "        text-align: right;\n",
       "    }\n",
       "</style>\n",
       "<table border=\"1\" class=\"dataframe\">\n",
       "  <thead>\n",
       "    <tr style=\"text-align: right;\">\n",
       "      <th></th>\n",
       "    </tr>\n",
       "  </thead>\n",
       "  <tbody>\n",
       "  </tbody>\n",
       "</table>\n",
       "</div>"
      ],
      "text/plain": [
       "Empty DataFrame\n",
       "Columns: []\n",
       "Index: []"
      ]
     },
     "execution_count": 9,
     "metadata": {},
     "output_type": "execute_result"
    }
   ],
   "source": [
    "\"\"\"\n",
    "VII.\n",
    "PŘEVOD SEZNAMU URL NA DATAFRAME\n",
    "\"\"\"\n",
    "\n",
    "A_new_urls_to_scrape_BEZREALITKY_df = pd.DataFrame(urls_list)\n",
    "A_new_urls_to_scrape_BEZREALITKY_df"
   ]
  },
  {
   "cell_type": "code",
   "execution_count": 10,
   "metadata": {},
   "outputs": [],
   "source": [
    "\"\"\"\n",
    "VIII.\n",
    "EXPORT OF DATAFRAME\n",
    "(of urls to be scraped)\n",
    "\"\"\"\n",
    "\n",
    "A_new_urls_to_scrape_BEZREALITKY_df.to_pickle(\"dataframes/A_new_urls_to_scrape_BEZREALITKY_df.pkl\")"
   ]
  },
  {
   "cell_type": "code",
   "execution_count": null,
   "metadata": {},
   "outputs": [],
   "source": [
    "# 152 řádků kódu včetně mezer a komentářů (spočítáno 4.11.2020)"
   ]
  },
  {
   "cell_type": "code",
   "execution_count": null,
   "metadata": {},
   "outputs": [],
   "source": [
    "\"\"\"\n",
    "Ib.\n",
    "====>ALTERNATIVE\n",
    "DATA SCRAPING PREPARATION:\n",
    "MAKING A LIST OF URLS \n",
    "BASED SOLELY ON AN OFFER NUMBER\n",
    "\"\"\"\n",
    "\n",
    "\"\"\"\n",
    "# URL WHERE TO OBTAIN A LATEST OFFER NUMBER\n",
    "# url_with_latest_offer_number = \"https://www.bezrealitky.cz/vypis/nabidka-prodej/byt?order=timeOrder_desc\"\n",
    "# POZOR: skrip na získání  latest_offer_number není dokončen\n",
    "# Je potřeba udělat soup a z ní číslo extrahovat - nic težkého\n",
    "\n",
    "\n",
    "# MAKING A LIST OF OFFER NUMBERS DERIVED FROM LATEST OFFER NUMBER\n",
    "latest_offer_number = 630658 # hardcoded \n",
    "latest_offer_number_list = [] # making a list that will contain numbers derived from the latest offer number\n",
    "for number in range(latest_offer_number-15,latest_offer_number): # setting of interval from latest offer number\n",
    "    latest_offer_number_list.append(number) \n",
    "latest_offer_number_list\n",
    "\n",
    "# MAKING A FINAL LIST OF URLS TO SCRAPE BASED ON LATEST OFFER NUMBER\n",
    "urls_list = []\n",
    "for offer_number in latest_offer_number_list:\n",
    "    latest_url = \"https://www.bezrealitky.cz/nemovitosti-byty-domy/\"+str(offer_number)\n",
    "    urls_list.append(latest_url)\n",
    "print(urls_list)\n",
    "\n",
    "# TEST THAT NO URL HAVE GOT LOST\n",
    "print(\"FINAL CHECK:\",15,\"vs.\",len(urls_list))\n",
    "\"\"\""
   ]
  }
 ],
 "metadata": {
  "kernelspec": {
   "display_name": "Python 3",
   "language": "python",
   "name": "python3"
  },
  "language_info": {
   "codemirror_mode": {
    "name": "ipython",
    "version": 3
   },
   "file_extension": ".py",
   "mimetype": "text/x-python",
   "name": "python",
   "nbconvert_exporter": "python",
   "pygments_lexer": "ipython3",
   "version": "3.8.2"
  }
 },
 "nbformat": 4,
 "nbformat_minor": 4
}
